{
  "cells": [
    {
      "cell_type": "markdown",
      "metadata": {
        "id": "CUvqv59JD_UF"
      },
      "source": [
        "This notebook tries to add new features into the model, including the acid proportions of the whole sequence."
      ]
    },
    {
      "cell_type": "code",
      "execution_count": 1,
      "metadata": {
        "colab": {
          "base_uri": "https://localhost:8080/"
        },
        "id": "n1rmjUUyC-7a",
        "outputId": "7ff0aaf2-6b56-4e65-8f46-b1ab4b236e4c"
      },
      "outputs": [
        {
          "output_type": "stream",
          "name": "stdout",
          "text": [
            "Looking in indexes: https://pypi.org/simple, https://us-python.pkg.dev/colab-wheels/public/simple/\n",
            "Collecting Levenshtein\n",
            "  Downloading Levenshtein-0.20.8-cp38-cp38-manylinux_2_17_x86_64.manylinux2014_x86_64.whl (174 kB)\n",
            "\u001b[K     |████████████████████████████████| 174 kB 32.9 MB/s \n",
            "\u001b[?25hCollecting rapidfuzz<3.0.0,>=2.3.0\n",
            "  Downloading rapidfuzz-2.13.3-cp38-cp38-manylinux_2_17_x86_64.manylinux2014_x86_64.whl (2.2 MB)\n",
            "\u001b[K     |████████████████████████████████| 2.2 MB 48.9 MB/s \n",
            "\u001b[?25hInstalling collected packages: rapidfuzz, Levenshtein\n",
            "Successfully installed Levenshtein-0.20.8 rapidfuzz-2.13.3\n",
            "94\n"
          ]
        }
      ],
      "source": [
        "!pip install Levenshtein\n",
        "import pandas as pd\n",
        "import numpy as np\n",
        "import Levenshtein\n",
        "\n",
        "# First read the grouped_data\n",
        "grouped_data = pd.read_csv(\"grouped_sample_no_pH_one_muta.csv\")\n",
        "grouped_data = grouped_data.iloc[np.array(list(grouped_data.group))!=-1,:]\n",
        "group_num = grouped_data.group.nunique()\n",
        "print(group_num)\n",
        "\n"
      ]
    },
    {
      "cell_type": "code",
      "execution_count": 2,
      "metadata": {
        "colab": {
          "base_uri": "https://localhost:8080/"
        },
        "id": "pUIkt3fwDA45",
        "outputId": "d9c4c9ff-b93d-4eca-c47f-fb2e3da43f15"
      },
      "outputs": [
        {
          "output_type": "stream",
          "name": "stdout",
          "text": [
            "[2, 2, 2, 2, 2, 2, 2, 2, 2, 2, 2, 2, 2, 2, 2, 2, 2, 2, 2, 2, 2, 2, 2, 2, 2, 2, 2, 2, 2, 2, 2, 2, 2, 2, 2, 2, 2, 2, 2, 2, 2, 2, 2, 2, 2, 2, 2, 2, 2, 2, 2, 2, 2, 2, 2, 2, 2, 1, 2, 2, 2, 2, 2, 2, 2, 2, 2, 1, 2, 2, 2, 2, 2, 0, 2, 2, 2, 2, 2, 2, 2, 2, 2, 2, 2, 2, 2, 2, 1, 2, 2, 2, 2, 2]\n"
          ]
        }
      ],
      "source": [
        "# Check what is the maximum number of mutations in a same group\n",
        "import Levenshtein\n",
        "\n",
        "group_max_nmuta = []\n",
        "for group_id in range(group_num):\n",
        "    group_nmuta = []\n",
        "    group = grouped_data.iloc[np.array(list(grouped_data.group))==group_id,1]\n",
        "    for ind1 in range(len(group)-1):\n",
        "        seq1 = group.iloc[ind1]\n",
        "        for ind2 in range(ind1+1,len(group)):\n",
        "            seq2 = group.iloc[ind2]\n",
        "            group_nmuta.append(Levenshtein.distance(seq1, seq2))\n",
        "    group_max_nmuta.append(max(group_nmuta))\n",
        "print(group_max_nmuta)"
      ]
    },
    {
      "cell_type": "code",
      "execution_count": 3,
      "metadata": {
        "id": "ixdtSeCQDusq"
      },
      "outputs": [],
      "source": [
        "# This block presents the functions to extract features from a pair of protein sequences\n",
        "def acid_proportion(neighbor):\n",
        "    '''\n",
        "    To calculate the proportion of acids in the protein acid sequence called \"neighbor\". \n",
        "\n",
        "    Parameters\n",
        "    ----------\n",
        "    neighbor: a string in the shape of \"AGHEF...\".\n",
        "        A sub-sequence of the protein acid sequence. \n",
        "\n",
        "    Returns\n",
        "    ----------\n",
        "    The return is in the shape of [0.02, 0.12, ..., 0.23], a list of length = 20. The numbers \n",
        "        in the list correspond to acids A, B, C, ..., T respetively, representing their proportions\n",
        "        in the protein acid sequence called \"neighbor\". So these 20 numbers should sum up to 20.\n",
        "    '''\n",
        "    neighbor_len = len(neighbor)\n",
        "    alpha_list = \"A B C D E F G H I J K L M N O P Q R S T\".split()\n",
        "    results = [neighbor.count(alpha)/neighbor_len for alpha in alpha_list]\n",
        "    return(results)\n",
        "\n",
        "\n",
        "def pair_mutation_features(seq1, seq2, neibor_radius=15, new_feature=False):\n",
        "    '''\n",
        "    To extract the featurs given a pair of similar protein sequences with only one mutation.\n",
        "    Features include the mutation type, and also the proportions of acids in the neighbor of \n",
        "        the muation position in seq1.\n",
        "\n",
        "    Parameters\n",
        "    ----------\n",
        "    seq1, seq2: strings in the shape of \"AABSD...\".\n",
        "        The sequences indicate the real acid composition of proteins.\n",
        "        Note that seq1 must be not shorter than seq2, and seq1 must be different from seq2.\n",
        "        Also, there should be only one mutation in this pair.\n",
        "\n",
        "    neibor_radius: Integer, larger than 0.\n",
        "        This number decides the radius of the neighbor of the mutation\n",
        "        spot. The acid proportion will be calculated within that neighbor.\n",
        "\n",
        "    new_feature: Boolean type.\n",
        "        Indicating wether or not to add the acid proportions in the whole sequence as a new feature\n",
        "\n",
        "    Returns:\n",
        "    ----------\n",
        "    The output is in the shape of [\"A-to-B\", 0.1, 0.03, ..., 0.04].\n",
        "    The first item is a categorical str variable, which comes from 400 possible choices.\n",
        "    The remaining a list showing the proportions of acids in the neighbor of mutation.\n",
        "    '''\n",
        "    # First find the position and category of the mutation\n",
        "    for acid_ind in range(len(seq1)):\n",
        "        if (acid_ind > len(seq2)-1):\n",
        "            category = seq1[acid_ind] + \"-to- \"\n",
        "            mutation_pos = acid_ind\n",
        "            break\n",
        "        elif (seq1[acid_ind] != seq2[acid_ind]) :           # At this point the mutation position is found\n",
        "            if seq1[acid_ind+1:] == seq2[acid_ind:]:     # This means the mutation is deletion\n",
        "                category = seq1[acid_ind] + \"-to- \"\n",
        "            elif seq1[acid_ind+1:] == seq2[acid_ind+1:]:       # This mean the mutation is substitution\n",
        "                category = seq1[acid_ind] + \"-to-\" + seq2[acid_ind]\n",
        "            else:\n",
        "                return(\"Error happens for this pair\")\n",
        "            mutation_pos = acid_ind\n",
        "            break\n",
        "    \n",
        "    # Now tailor the neighbor in case it exceeds the bounds\n",
        "    mutation_neibor = [mutation_pos-neibor_radius, mutation_pos+neibor_radius]\n",
        "    if mutation_neibor[0] < 0:\n",
        "        mutation_neibor = [0, 2*neibor_radius]\n",
        "    elif mutation_neibor[1] > len(seq1) - 1:\n",
        "        mutation_neibor = [len(seq1)-1-2*neibor_radius, len(seq1)-1]\n",
        "    mutation_neibor = [max(mutation_neibor[0],0), min(len(seq1)-1, mutation_neibor[1])]\n",
        "\n",
        "    # Now do the acid proportion calculation on the neighbor\n",
        "    neighbor = seq1[mutation_neibor[0]:mutation_neibor[1]]\n",
        "    acids_proportion = acid_proportion(neighbor)\n",
        "\n",
        "    # Also, add the acid proportions of the whole sequence as a new feature\n",
        "    if new_feature == True:\n",
        "        acids_proportion += acid_proportion(seq1)\n",
        "    return([category] + acids_proportion)\n"
      ]
    },
    {
      "cell_type": "code",
      "execution_count": 4,
      "metadata": {
        "colab": {
          "base_uri": "https://localhost:8080/"
        },
        "id": "oCj0b92mDwJj",
        "outputId": "1658d71c-17fc-4fd5-b184-b456855cde55"
      },
      "outputs": [
        {
          "output_type": "stream",
          "name": "stdout",
          "text": [
            "[('abssbwbsbwaad', 'absbbwbsbwaad'), ('abssbwbsbwaad', 'abssbwbsbwaac')]\n"
          ]
        }
      ],
      "source": [
        "# This block presents functions to judge whether there are more than one mutations\n",
        "# in a pair of sequences. If so, divide this pair of sequences into more pairs\n",
        "# that correspond to every mutation respectively.\n",
        "import Levenshtein\n",
        "\n",
        "def seperate_pairs(seq1, seq2):\n",
        "    '''\n",
        "    Judge whether there are more than one mutations happening in the sequence pair.\n",
        "    If yes, generate new pairs that correspond to each mutation respectively.\n",
        "\n",
        "    Parameters\n",
        "    ----------\n",
        "    seq1, seq2: strings in the shape of \"AABSD...\".\n",
        "        The sequences indicate the real acid composition of proteins.\n",
        "        Note that seq1 must be not shorter than seq2, and seq1 must be different from seq2.\n",
        "    \n",
        "    Returns:\n",
        "    ----------\n",
        "    The return will be in the shape of [(seq1, seq3), (seq1, seq4)].\n",
        "    The \"seq3\", \"seq4\" represent one of the mutation from seq1 to seq2 individually.\n",
        "    I.e., the length of this list will be the same as the number of mutations\n",
        "    in the original pair (seq1, seq2).\n",
        "\n",
        "    Note:\n",
        "    ----------\n",
        "    Notice that the maximum number of mutations in one pair of sequences will not exceed 2,\n",
        "    the function make use of this fact to decide the pair seperation strategy.\n",
        "    '''\n",
        "    num_mutations = Levenshtein.distance(seq1, seq2)\n",
        "    if num_mutations == 1:\n",
        "        return([(seq1, seq2)])\n",
        "    # found_mutations = 0\n",
        "    output_list = []\n",
        "    for ind in range(len(seq1)):\n",
        "        new_seq11 = seq1[:ind] + seq1[ind+1:]\n",
        "        if Levenshtein.distance(new_seq11, seq2) < Levenshtein.distance(seq1, seq2):\n",
        "            output_list.append((seq1, new_seq11))\n",
        "            if len(output_list) == num_mutations:\n",
        "                break\n",
        "            seq2 = seq2[:ind] + seq1[ind] + seq2[ind:]\n",
        "            \n",
        "        elif ind < len(seq2): \n",
        "            new_seq12 = seq1[:ind] + seq2[ind] + seq1[ind+1:]\n",
        "            if Levenshtein.distance(new_seq12, seq2) < Levenshtein.distance(seq1, seq2):\n",
        "                output_list.append((seq1, new_seq12))\n",
        "                if len(output_list) == num_mutations:\n",
        "                    break\n",
        "                seq2 = seq2[:ind] + seq1[ind] + seq2[ind+1:]\n",
        "    return(output_list)\n",
        "\n",
        "# Test\n",
        "print(seperate_pairs(\"abssbwbsbwaad\", \"absbbwbsbwaac\"))\n",
        "        "
      ]
    },
    {
      "cell_type": "code",
      "execution_count": 5,
      "metadata": {
        "id": "pU31UnsEDy6U"
      },
      "outputs": [],
      "source": [
        "# These are the functions to generate the prediction target, y\n",
        "def get_y1(temp1, temp2, num_mutations):\n",
        "    y = temp2 - temp1 \n",
        "    y /= num_mutations\n",
        "    return(y)\n",
        "\n",
        "def get_y2(temp1, temp2, num_mutations):\n",
        "    y = temp2 / temp1\n",
        "    y = num_mutations**(1/num_mutations)\n",
        "    return(y)\n",
        "\n",
        "# This is the function to calculate whether the difference between two temperatures is large enough to be considered,\n",
        "# as it is necessary to reduce the training dataset size (the RAM could not afford the load)\n",
        "def temp_diff_measure(temp1, temp2):\n",
        "    return(abs(temp1-temp2)/temp1)\n",
        "\n",
        "# This is the function to get the target features of sequences in the same group。\n",
        "def get_group_features(group, neibor_radius=15, new_feature=False):\n",
        "\n",
        "    group_features = []\n",
        "    group_nrow = group.shape[0]\n",
        "    for row_ind1 in range(group_nrow-1):\n",
        "        current_seq = group.iloc[row_ind1,:][\"protein_sequence\"]\n",
        "        current_tm = group.iloc[row_ind1,:][\"tm\"]\n",
        "        for row_ind2 in range(row_ind1+1, group_nrow):\n",
        "            pair_seq = group.iloc[row_ind2,:][\"protein_sequence\"]\n",
        "            pair_tm = group.iloc[row_ind2,:][\"tm\"]\n",
        "            difference_measure = temp_diff_measure(current_tm, pair_tm)\n",
        "            if difference_measure < 0.2:            #!!!!!! This is to reduce the training dataset size, leaving out less obvious samples\n",
        "                continue\n",
        "            if current_seq != pair_seq:             # The pair is effective only when the sequences are different\n",
        "                if len(current_seq) >= len(pair_seq):\n",
        "                    re_pair = seperate_pairs(current_seq, pair_seq)\n",
        "                    num_mutations = len(re_pair)\n",
        "                    for pair in re_pair:\n",
        "                        seq1 = pair[0]\n",
        "                        seq2 = pair[1]\n",
        "                        # This is for the case that y is the difference between\n",
        "                        # Here if there are two mutations, the tm difference should be dilute into half for each pair\n",
        "                        y = get_y2(current_tm, pair_tm, num_mutations)\n",
        "                        group_features.append(pair_mutation_features(seq1,seq2,neibor_radius, new_feature=new_feature)+[y])\n",
        "\n",
        "                else:\n",
        "                    re_pair = seperate_pairs(pair_seq, current_seq)\n",
        "                    num_mutations = len(re_pair)\n",
        "                    for pair in re_pair:\n",
        "                        seq1 = pair[0]\n",
        "                        seq2 = pair[1]\n",
        "                        y = get_y2(pair_tm, current_tm, num_mutations)\n",
        "                        group_features.append(pair_mutation_features(seq1,seq2,neibor_radius, new_feature=new_feature)+[y])\n",
        "\n",
        "    return(group_features)"
      ]
    },
    {
      "cell_type": "code",
      "execution_count": null,
      "metadata": {
        "id": "jKHlo4L8D1zC"
      },
      "outputs": [],
      "source": [
        "# This block extract the features in all groups\n",
        "training_features = []\n",
        "neibor_radius = 25          # !!!!!! This sets the radius of the neighborhood of the mutation position, in preparation for the calculation of acid proportions\n",
        "\n",
        "new_feature=True        # This means that we try the new feature, acid proportions in the whole amino acid sequence\n",
        "for group_ind in range(grouped_data.group.nunique()):\n",
        "    # if group_ind == 125:            # As number of mutations in the seq pairs of group 125 exceed 2\n",
        "    #     continue\n",
        "    print(group_ind, \"/\", grouped_data.group.nunique())\n",
        "    group = grouped_data.iloc[np.array(list(grouped_data.group))==group_ind,:]\n",
        "    group_features = get_group_features(group,neibor_radius,new_feature=new_feature)\n",
        "    training_features += group_features\n",
        "train = pd.DataFrame(training_features)\n",
        "print(train.shape)\n"
      ]
    },
    {
      "cell_type": "code",
      "execution_count": 7,
      "metadata": {
        "id": "oh0P-xk0Ehw2"
      },
      "outputs": [],
      "source": [
        "col_names = [\"mutation_category\"] + [\"acid_proportion\"+str(i) for i in range(20)] + [\"tem_diff\"]\n",
        "if new_feature:\n",
        "    col_names = [\"mutation_category\"] + [str(i) for i in range(40)] + [\"tem_diff\"]\n",
        "train.columns = col_names"
      ]
    },
    {
      "cell_type": "code",
      "execution_count": 8,
      "metadata": {
        "colab": {
          "base_uri": "https://localhost:8080/"
        },
        "id": "i1q_yrL7Ei6I",
        "outputId": "229198a0-ebc8-4110-f32b-735689cc77fa"
      },
      "outputs": [
        {
          "output_type": "stream",
          "name": "stderr",
          "text": [
            "/usr/local/lib/python3.8/dist-packages/sklearn/base.py:443: UserWarning: X has feature names, but OneHotEncoder was fitted without feature names\n",
            "  warnings.warn(\n"
          ]
        },
        {
          "output_type": "stream",
          "name": "stdout",
          "text": [
            "(342418, 436)\n"
          ]
        }
      ],
      "source": [
        "# This block sets up the encoder for the mutation category\n",
        "from sklearn.preprocessing import LabelEncoder, OneHotEncoder\n",
        "enc = OneHotEncoder()          # Initialization\n",
        "\n",
        "# The one-hot encoder only consider the mutations in the training set,\n",
        "# and later when comparing two sequences in the test set, if new mutations\n",
        "# appear, just assign 0 to the code array\n",
        "enc.fit(pd.DataFrame(np.reshape(train[\"mutation_category\"].unique(), [len(train[\"mutation_category\"].unique()),1])))   \n",
        "train_coded_cate = enc.transform(train[[\"mutation_category\"]]).toarray()\n",
        "\n",
        "train_coded_cate = pd.DataFrame(train_coded_cate)\n",
        "train_coded_cate.columns = [\"category \"+str(i) for i in range(train_coded_cate.shape[1])]\n",
        "available_categories = train[\"mutation_category\"].unique()         # This is the coverage of possible mutation categories in the training set\n",
        "\n",
        "encoded_train = pd.concat([train_coded_cate, train.iloc[:,1:]], axis=1)\n",
        "print(encoded_train.shape)"
      ]
    },
    {
      "cell_type": "code",
      "execution_count": 9,
      "metadata": {
        "id": "yNd7oeGpEkwv"
      },
      "outputs": [],
      "source": [
        "# This block tries to construct the training model\n",
        "train_x = encoded_train.iloc[:,:encoded_train.shape[1]-1]              # Leave out the last neighbor_acid_proportion as it is redundant\n",
        "train_y = np.array([[i] for i in encoded_train[\"tem_diff\"]])\n",
        "\n",
        "import xgboost as xgb\n",
        "from sklearn.model_selection import train_test_split\n",
        "tr_x, va_x, tr_y, va_y = train_test_split(train_x, train_y, test_size=0.1, random_state=123)\n",
        "\n",
        "xgb_parms = { \n",
        "    'max_depth':4, \n",
        "    'learning_rate':0.005, \n",
        "    'subsample':0.6,\n",
        "    'colsample_bytree':0.2, \n",
        "    'eval_metric':'rmse',\n",
        "    'objective':'reg:squarederror',\n",
        "    'random_state':123\n",
        "}\n",
        "model = xgb\n",
        "dtrain = xgb.DMatrix(data=tr_x, label=tr_y)\n",
        "dvalid = xgb.DMatrix(data=va_x, label=va_y)\n"
      ]
    },
    {
      "cell_type": "code",
      "execution_count": 10,
      "metadata": {
        "id": "tzJv3SaiEmV2",
        "colab": {
          "base_uri": "https://localhost:8080/"
        },
        "outputId": "d01c1a50-e16d-440d-e3b7-01f0d9f7015e"
      },
      "outputs": [
        {
          "output_type": "stream",
          "name": "stdout",
          "text": [
            "[0]\ttrain-rmse:0.906472\tvalid-rmse:0.90594\n",
            "Multiple eval metrics have been passed: 'valid-rmse' will be used for early stopping.\n",
            "\n",
            "Will train until valid-rmse hasn't improved in 100 rounds.\n",
            "[100]\ttrain-rmse:0.549668\tvalid-rmse:0.549832\n",
            "[200]\ttrain-rmse:0.334663\tvalid-rmse:0.334662\n",
            "[300]\ttrain-rmse:0.205465\tvalid-rmse:0.205415\n",
            "[400]\ttrain-rmse:0.128608\tvalid-rmse:0.128745\n",
            "[500]\ttrain-rmse:0.084273\tvalid-rmse:0.084683\n",
            "[600]\ttrain-rmse:0.060325\tvalid-rmse:0.060959\n",
            "[700]\ttrain-rmse:0.048542\tvalid-rmse:0.049435\n",
            "[800]\ttrain-rmse:0.043328\tvalid-rmse:0.044404\n",
            "[900]\ttrain-rmse:0.041173\tvalid-rmse:0.042334\n",
            "[1000]\ttrain-rmse:0.040287\tvalid-rmse:0.041491\n",
            "[1100]\ttrain-rmse:0.039853\tvalid-rmse:0.041117\n",
            "[1200]\ttrain-rmse:0.039631\tvalid-rmse:0.040919\n",
            "[1300]\ttrain-rmse:0.039497\tvalid-rmse:0.040777\n",
            "[1400]\ttrain-rmse:0.039385\tvalid-rmse:0.040669\n",
            "[1500]\ttrain-rmse:0.039248\tvalid-rmse:0.040577\n",
            "[1600]\ttrain-rmse:0.039152\tvalid-rmse:0.040493\n",
            "[1700]\ttrain-rmse:0.039051\tvalid-rmse:0.040404\n",
            "[1800]\ttrain-rmse:0.038953\tvalid-rmse:0.040319\n",
            "[1900]\ttrain-rmse:0.038869\tvalid-rmse:0.040241\n",
            "[2000]\ttrain-rmse:0.038771\tvalid-rmse:0.040163\n",
            "[2099]\ttrain-rmse:0.038689\tvalid-rmse:0.040098\n"
          ]
        }
      ],
      "source": [
        "# This block generate the training model\n",
        "model1 = xgb.train(xgb_parms, dtrain=dtrain,evals=[(dtrain,\"train\"),(dvalid, \"valid\")],\n",
        "                 num_boost_round=2100,\n",
        "                 early_stopping_rounds = 100,\n",
        "                 verbose_eval = 100)\n",
        "model1.save_model('demo1.model')"
      ]
    },
    {
      "cell_type": "code",
      "execution_count": 11,
      "metadata": {
        "id": "IPgb-g8vEtPk"
      },
      "outputs": [],
      "source": [
        "# Now look at the test set.\n",
        "# The strategy to rank the samples in the test set is to find the \n",
        "# wildtype in the test set first, then compare it with every sample\n",
        "# in the test set, and finally sort the samples by their regression \n",
        "# result.\n",
        "\n",
        "# With ZYZ's code, found that the 1170-th sample in the test data is the wildtype for the test set \n",
        "test_data = pd.read_csv(\"test.csv\")\n",
        "seq = list(test_data.protein_sequence)\n",
        "\n",
        "prediction = []\n",
        "test_wt = seq[1169]\n",
        "for sample in seq:\n",
        "    if sample == test_wt:\n",
        "        prediction.append(0)\n",
        "        continue\n",
        "    else:\n",
        "        mutation_features = pair_mutation_features(test_wt, sample, neibor_radius=neibor_radius, new_feature=True)\n",
        "        if mutation_features[0] not in available_categories:\n",
        "            mutation_features = [0] * train_coded_cate.shape[1] + mutation_features[1:]\n",
        "        else:\n",
        "\n",
        "            coded_cate = enc.transform([[mutation_features[0]]]).toarray().tolist()[0]\n",
        "            mutation_features = coded_cate + mutation_features[1:] \n",
        "\n",
        "        mutation_features = pd.DataFrame([mutation_features])\n",
        "        mutation_features.columns = [\"category \"+str(i) for i in range(train_coded_cate.shape[1])] + [str(i) for i in range(40)]  \n",
        "        mutation_features = xgb.DMatrix(data=mutation_features)      \n",
        "        prediction.append(model1.predict(mutation_features))\n"
      ]
    },
    {
      "cell_type": "code",
      "execution_count": 12,
      "metadata": {
        "id": "iRh55wJpEwnm"
      },
      "outputs": [],
      "source": [
        "# Finally, rank all the test samples by the predictions we got above\n",
        "results = pd.DataFrame()\n",
        "results[\"seq_id\"] = list(test_data.seq_id)\n",
        "results[\"tm\"] = [float(i) for i in prediction]\n",
        "results.to_csv(\"results.csv\",index=0)\n",
        "# Upload to Kaggle"
      ]
    },
    {
      "cell_type": "code",
      "source": [],
      "metadata": {
        "id": "j32wBIgsE0gZ"
      },
      "execution_count": null,
      "outputs": []
    }
  ],
  "metadata": {
    "colab": {
      "provenance": []
    },
    "kernelspec": {
      "display_name": "Python 3",
      "name": "python3"
    },
    "language_info": {
      "name": "python"
    }
  },
  "nbformat": 4,
  "nbformat_minor": 0
}