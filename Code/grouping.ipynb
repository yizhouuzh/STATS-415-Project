{
 "cells": [
  {
   "cell_type": "code",
   "execution_count": 2,
   "metadata": {},
   "outputs": [],
   "source": [
    "import pandas as pd\n",
    "import numpy as np\n",
    "import Levenshtein\n",
    "\n",
    "train_data = pd.read_csv(\"train.csv\")\n",
    "train_update = pd.read_csv(\"train_updates_20220929.csv\")"
   ]
  },
  {
   "attachments": {},
   "cell_type": "markdown",
   "metadata": {},
   "source": [
    "First we need to delete some error data, and replace some data according to train_updates_20220929.csv"
   ]
  },
  {
   "cell_type": "code",
   "execution_count": 3,
   "metadata": {},
   "outputs": [],
   "source": [
    "nrow_update = train_update.shape[0]\n",
    "nrow_train = train_data.shape[0]\n",
    "update_proseq = train_update.iloc[:,1]\n",
    "\n",
    "# By judging whether the protein sequence is NaN, find the rows to be deleted\n",
    "row_ind_delete = list(train_update.iloc[list(update_proseq!=update_proseq),0])\n",
    "\n",
    "# Find the rows that are to be modified\n",
    "row_ind_replace = list(train_update.iloc[list(update_proseq==update_proseq),0])\n",
    "\n",
    "# Now construct a list of rows to substitude the target rows\n",
    "substitution = train_update.iloc[list(update_proseq==update_proseq),:]\n",
    "substitution = [list(substitution.iloc[i,:]) for i in range(substitution.shape[0])]\n",
    "\n",
    "# Now find the rows that should be kept, instead be being deleted\n",
    "row_ind_remain = list(range(nrow_train))\n",
    "row_ind_remain = list(set(row_ind_remain)-set(row_ind_delete))\n",
    "\n",
    "# Finally, acquire the modified train data set\n",
    "modified_train_data = train_data\n",
    "for row in substitution:\n",
    "    row_ind = row[0]\n",
    "    modified_train_data.iloc[row_ind,:] = row\n",
    "modified_train_data = modified_train_data.iloc[row_ind_remain,:]\n"
   ]
  },
  {
   "cell_type": "code",
   "execution_count": 4,
   "metadata": {},
   "outputs": [
    {
     "name": "stderr",
     "output_type": "stream",
     "text": [
      "C:\\Users\\lsk\\AppData\\Local\\Temp\\ipykernel_2424\\3759851295.py:2: SettingWithCopyWarning: \n",
      "A value is trying to be set on a copy of a slice from a DataFrame.\n",
      "Try using .loc[row_indexer,col_indexer] = value instead\n",
      "\n",
      "See the caveats in the documentation: https://pandas.pydata.org/pandas-docs/stable/user_guide/indexing.html#returning-a-view-versus-a-copy\n",
      "  modified_train_data[\"seq_length\"] = len_list\n",
      "C:\\Users\\lsk\\AppData\\Local\\Temp\\ipykernel_2424\\3759851295.py:3: SettingWithCopyWarning: \n",
      "A value is trying to be set on a copy of a slice from a DataFrame\n",
      "\n",
      "See the caveats in the documentation: https://pandas.pydata.org/pandas-docs/stable/user_guide/indexing.html#returning-a-view-versus-a-copy\n",
      "  modified_train_data.sort_values(by=\"seq_length\" , inplace=True, ascending=True)\n"
     ]
    }
   ],
   "source": [
    "len_list = modified_train_data.protein_sequence.str.len()\n",
    "modified_train_data[\"seq_length\"] = len_list\n",
    "modified_train_data.sort_values(by=\"seq_length\" , inplace=True, ascending=True) \n",
    "len_list = sorted(len_list)"
   ]
  },
  {
   "cell_type": "code",
   "execution_count": 5,
   "metadata": {},
   "outputs": [
    {
     "name": "stderr",
     "output_type": "stream",
     "text": [
      "C:\\Users\\lsk\\AppData\\Local\\Temp\\ipykernel_2424\\2511352343.py:3: SettingWithCopyWarning: \n",
      "A value is trying to be set on a copy of a slice from a DataFrame.\n",
      "Try using .loc[row_indexer,col_indexer] = value instead\n",
      "\n",
      "See the caveats in the documentation: https://pandas.pydata.org/pandas-docs/stable/user_guide/indexing.html#returning-a-view-versus-a-copy\n",
      "  modified_train_data[\"new_id\"] = list(range(len(len_list)))\n"
     ]
    }
   ],
   "source": [
    "# This is the rough grouping, which group all the samples only by their similarity \n",
    "# in the protein sequences\n",
    "modified_train_data[\"new_id\"] = list(range(len(len_list)))\n",
    "\n",
    "group_extend_scale = 1              # Here we resgirct that the sequences in the same group can only have one mutation\n",
    "group_lower_bound = 5\n",
    "already_grouped = []\n",
    "groups = []\n",
    "groups_ind = []\n",
    "groups_len = []\n",
    "\n",
    "xx = np.array(list(range(len(len_list))))\n",
    "\n",
    "for ind_x in range(len(len_list)):    \n",
    "    if ind_x in already_grouped:\n",
    "        continue\n",
    "    length = len_list[ind_x]\n",
    "    seq = modified_train_data.iloc[ind_x, 1]\n",
    "    neighbor_bar = group_extend_scale\n",
    "    selected_rows = list((xx > ind_x) &\n",
    "                        (modified_train_data.seq_length <= neighbor_bar+length))\n",
    "    if len(selected_rows) == 0:\n",
    "        continue\n",
    "    extended_neighbor = list(modified_train_data.iloc[selected_rows,1])\n",
    "    group_member_ind = [ind_x]\n",
    "    maybe_grouped = []\n",
    "    for neighbor_ind in range(len(extended_neighbor)):\n",
    "        neighbor = extended_neighbor[neighbor_ind]\n",
    "        difference = Levenshtein.distance(neighbor, seq)\n",
    "        \n",
    "        # Here, if a sequence is simliar to seq, put it\n",
    "        # into the group, and label it \"grouped\". \n",
    "        if difference <= 2:             # Resgirct that the sequences in the same group can only have one mutation\n",
    "            group_member_ind.append(ind_x+neighbor_ind+1)\n",
    "            maybe_grouped.append(ind_x+neighbor_ind+1)\n",
    "\n",
    "    # If the group size reaches the bar, record the indices of samples in \n",
    "    # the group and formally label the grouped samples\n",
    "    if len(group_member_ind) > group_lower_bound:\n",
    "        already_grouped += maybe_grouped\n",
    "        groups_ind.append(group_member_ind)\n",
    "        groups_len.append(len(group_member_ind))"
   ]
  },
  {
   "cell_type": "code",
   "execution_count": 6,
   "metadata": {},
   "outputs": [
    {
     "name": "stdout",
     "output_type": "stream",
     "text": [
      "94\n",
      "4347\n",
      "[52, 21, 53, 20, 45, 6, 55, 13, 127, 27, 62, 78, 32, 10, 12, 78, 6, 8, 59, 8, 11, 8, 78, 68, 8, 54, 194, 7, 6, 124, 49, 180, 34, 10, 41, 28, 60, 708, 12, 144, 9, 17, 12, 9, 19, 6, 6, 16, 19, 273, 16, 26, 151, 6, 53, 21, 13, 10, 12, 28, 17, 7, 10, 25, 10, 8, 36, 10, 54, 10, 7, 12, 51, 7, 6, 7, 31, 19, 130, 61, 211, 30, 6, 24, 84, 10, 72, 12, 6, 8, 13, 8, 10, 17]\n",
      "31 2\n",
      "35 2\n",
      "43 2\n",
      "45 2\n",
      "54 2\n"
     ]
    }
   ],
   "source": [
    "# Observe the distribution of grouping\n",
    "print(len(groups_ind))\n",
    "print(sum(groups_len))\n",
    "print(groups_len)\n",
    "\n",
    "for ind in range(len(groups_ind)):\n",
    "    sample = modified_train_data.iloc[groups_ind[ind], 2:]\n",
    "    lengths = len(list(set(sample.seq_length)))\n",
    "    if lengths >= 2:\n",
    "        print(ind, lengths)"
   ]
  },
  {
   "cell_type": "code",
   "execution_count": 7,
   "metadata": {},
   "outputs": [
    {
     "name": "stdout",
     "output_type": "stream",
     "text": [
      "(4347, 9)\n"
     ]
    },
    {
     "name": "stderr",
     "output_type": "stream",
     "text": [
      "C:\\Users\\lsk\\AppData\\Local\\Temp\\ipykernel_39192\\2820161087.py:7: SettingWithCopyWarning: \n",
      "A value is trying to be set on a copy of a slice from a DataFrame.\n",
      "Try using .loc[row_indexer,col_indexer] = value instead\n",
      "\n",
      "See the caveats in the documentation: https://pandas.pydata.org/pandas-docs/stable/user_guide/indexing.html#returning-a-view-versus-a-copy\n",
      "  modified_train_data[\"group\"] = category\n"
     ]
    }
   ],
   "source": [
    "# Output the dataframe\n",
    "category = [-1] * len(len_list)\n",
    "for category_ind in range(len(groups_ind)):\n",
    "    group = groups_ind[category_ind]\n",
    "    for ind in group:\n",
    "        category[ind] = category_ind \n",
    "modified_train_data[\"group\"] = category\n",
    "tt = modified_train_data[modified_train_data[\"group_id\"]>-1]\n",
    "print(tt.shape)\n",
    "tt.to_csv(\"grouped_sample_no_pH_one_muta.csv\",index=False)"
   ]
  },
  {
   "cell_type": "code",
   "execution_count": null,
   "metadata": {},
   "outputs": [],
   "source": [
    "# Re-group the samples within the groups we already got\n",
    "# by putting samples of the same pH values and sources\n",
    "# together \n",
    "cleared_group = []\n",
    "for ind in range(len(groups_ind)):\n",
    "    group = groups_ind[ind]\n",
    "    samples = modified_train_data.iloc[group, :]\n",
    "    back_ground_info = list(set(list(samples.pH)))\n",
    "    for group_criteria in back_ground_info:\n",
    "        small_group = samples.iloc[ np.array(samples.pH==group_criteria), 6]\n",
    "        small_group = list(small_group)\n",
    "        if len(small_group) >= 5:\n",
    "            cleared_group.append(small_group)\n"
   ]
  },
  {
   "cell_type": "code",
   "execution_count": null,
   "metadata": {},
   "outputs": [],
   "source": [
    "# This block tries to see wether there are groups containing sequences of \n",
    "# different lengths\n",
    "print(len(cleared_group))\n",
    "for ind in range(len(cleared_group)):\n",
    "    sample = modified_train_data.iloc[cleared_group[ind], 2:]\n",
    "    lengths = len(list(set(sample.seq_length)))\n",
    "    if lengths >= 2:\n",
    "        print(ind, lengths)"
   ]
  },
  {
   "cell_type": "code",
   "execution_count": null,
   "metadata": {},
   "outputs": [],
   "source": [
    "# Output the dataframe\n",
    "category = [0] * len(len_list)\n",
    "for category_ind in range(len(cleared_group)):\n",
    "    group = cleared_group[category_ind]\n",
    "    for ind in group:\n",
    "        category[ind] = category_ind + 1\n",
    "modified_train_data[\"group_id\"] = category\n",
    "modified_train_data.to_csv(\"grouped_sample_pH.csv\",index=False)"
   ]
  }
 ],
 "metadata": {
  "interpreter": {
   "hash": "861f9c34f7302a1aedb62edfc1533c524ce2793735e6b405602ea89eb9cb2484"
  },
  "kernelspec": {
   "display_name": "Python 3.9.7",
   "language": "python",
   "name": "python3"
  },
  "language_info": {
   "codemirror_mode": {
    "name": "ipython",
    "version": 3
   },
   "file_extension": ".py",
   "mimetype": "text/x-python",
   "name": "python",
   "nbconvert_exporter": "python",
   "pygments_lexer": "ipython3",
   "version": "3.9.7"
  },
  "orig_nbformat": 4
 },
 "nbformat": 4,
 "nbformat_minor": 2
}
